{
 "cells": [
  {
   "cell_type": "markdown",
   "metadata": {},
   "source": [
    "### 좌표 변환을 위한 library 불러오기"
   ]
  },
  {
   "cell_type": "code",
   "execution_count": 9,
   "metadata": {},
   "outputs": [],
   "source": [
    "import requests\n",
    "import pandas as pd\n",
    "import folium\n",
    "from folium.plugins import MiniMap\n",
    "import json"
   ]
  },
  {
   "cell_type": "markdown",
   "metadata": {},
   "source": [
    "### 주소에 해당하는 좌표값 가져오기"
   ]
  },
  {
   "cell_type": "code",
   "execution_count": 16,
   "metadata": {},
   "outputs": [
    {
     "data": {
      "text/plain": [
       "(127.059988126984, 37.5825775765293)"
      ]
     },
     "execution_count": 16,
     "metadata": {},
     "output_type": "execute_result"
    }
   ],
   "source": [
    "def getLatLng(addr):\n",
    "    url = 'https://dapi.kakao.com/v2/local/search/address.json?query='+addr\n",
    "    headers = {\"Authorization\": \"KakaoAK key value #######\"}\n",
    "    result = json.loads(str(requests.get(url,headers=headers).text))\n",
    "    match_first = result['documents'][0]['address']\n",
    "\n",
    "    return float(match_first['x']), float(match_first['y']) \n",
    "\n",
    "addr = '서울 동대문구 서울시립대로 163 (전농동 90번지)'\n",
    "x, y = getLatLng(addr)\n",
    "(x, y)"
   ]
  }
 ],
 "metadata": {
  "kernelspec": {
   "display_name": "Python 3",
   "language": "python",
   "name": "python3"
  },
  "language_info": {
   "codemirror_mode": {
    "name": "ipython",
    "version": 3
   },
   "file_extension": ".py",
   "mimetype": "text/x-python",
   "name": "python",
   "nbconvert_exporter": "python",
   "pygments_lexer": "ipython3",
   "version": "3.9.13"
  },
  "orig_nbformat": 4
 },
 "nbformat": 4,
 "nbformat_minor": 2
}
