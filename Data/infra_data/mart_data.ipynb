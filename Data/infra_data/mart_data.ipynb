{
 "cells": [
  {
   "attachments": {},
   "cell_type": "markdown",
   "metadata": {},
   "source": [
    "### 데이터 불러오기\n",
    "1. 판다스 사용\n",
    "2. csv 파일 불러오기"
   ]
  },
  {
   "cell_type": "code",
   "execution_count": 1,
   "metadata": {},
   "outputs": [],
   "source": [
    "import pandas as pd"
   ]
  },
  {
   "cell_type": "code",
   "execution_count": 4,
   "metadata": {},
   "outputs": [
    {
     "data": {
      "text/plain": [
       "개방자치단체코드      int64\n",
       "관리번호          int64\n",
       "인허가일자        object\n",
       "인허가취소일자     float64\n",
       "영업상태코드        int64\n",
       "영업상태명        object\n",
       "상세영업상태코드     object\n",
       "상세영업상태명      object\n",
       "폐업일자         object\n",
       "휴업시작일자       object\n",
       "휴업종료일자       object\n",
       "재개업일자        object\n",
       "전화번호         object\n",
       "소재지면적       float64\n",
       "소재지우편번호      object\n",
       "지번주소         object\n",
       "도로명주소        object\n",
       "도로명우편번호      object\n",
       "사업장명         object\n",
       "최종수정일자       object\n",
       "데이터갱신구분      object\n",
       "데이터갱신일자      object\n",
       "업태구분명        object\n",
       "좌표정보(X)     float64\n",
       "좌표정보(Y)     float64\n",
       "점포구분명        object\n",
       "dtype: object"
      ]
     },
     "execution_count": 4,
     "metadata": {},
     "output_type": "execute_result"
    }
   ],
   "source": [
    "mart_csv = pd.read_csv('./서울시 대규모점포 인허가 정보.csv', encoding='cp949')\n",
    "mart_csv.dtypes"
   ]
  },
  {
   "attachments": {},
   "cell_type": "markdown",
   "metadata": {},
   "source": [
    "### 데이터 전처리\n",
    "1. 필요없는 column drop하기\n",
    "2. X좌표, Y좌표 얻기\n",
    "3. 결측치 채우기, 자료형 통일하기"
   ]
  },
  {
   "cell_type": "code",
   "execution_count": 16,
   "metadata": {},
   "outputs": [
    {
     "data": {
      "text/html": [
       "<div>\n",
       "<style scoped>\n",
       "    .dataframe tbody tr th:only-of-type {\n",
       "        vertical-align: middle;\n",
       "    }\n",
       "\n",
       "    .dataframe tbody tr th {\n",
       "        vertical-align: top;\n",
       "    }\n",
       "\n",
       "    .dataframe thead th {\n",
       "        text-align: right;\n",
       "    }\n",
       "</style>\n",
       "<table border=\"1\" class=\"dataframe\">\n",
       "  <thead>\n",
       "    <tr style=\"text-align: right;\">\n",
       "      <th></th>\n",
       "      <th>사업장명</th>\n",
       "      <th>인허가일자</th>\n",
       "      <th>폐업일자</th>\n",
       "      <th>좌표정보(X)</th>\n",
       "      <th>좌표정보(Y)</th>\n",
       "    </tr>\n",
       "  </thead>\n",
       "  <tbody>\n",
       "    <tr>\n",
       "      <th>0</th>\n",
       "      <td>마리오아울렛 1관</td>\n",
       "      <td>20130906</td>\n",
       "      <td>20300101</td>\n",
       "      <td>189943.234285</td>\n",
       "      <td>441784.247519</td>\n",
       "    </tr>\n",
       "    <tr>\n",
       "      <th>1</th>\n",
       "      <td>마리오아울렛 3관</td>\n",
       "      <td>20120913</td>\n",
       "      <td>20300101</td>\n",
       "      <td>189759.713051</td>\n",
       "      <td>441814.115921</td>\n",
       "    </tr>\n",
       "    <tr>\n",
       "      <th>2</th>\n",
       "      <td>롯데슈퍼 목동2점</td>\n",
       "      <td>20120405</td>\n",
       "      <td>20300101</td>\n",
       "      <td>188700.851170</td>\n",
       "      <td>448020.090999</td>\n",
       "    </tr>\n",
       "    <tr>\n",
       "      <th>3</th>\n",
       "      <td>영등포유통상가</td>\n",
       "      <td>19990531</td>\n",
       "      <td>20300101</td>\n",
       "      <td>190555.768992</td>\n",
       "      <td>446698.814323</td>\n",
       "    </tr>\n",
       "    <tr>\n",
       "      <th>4</th>\n",
       "      <td>롯데슈퍼 방배2점</td>\n",
       "      <td>20120424</td>\n",
       "      <td>20300101</td>\n",
       "      <td>198984.364832</td>\n",
       "      <td>443229.835879</td>\n",
       "    </tr>\n",
       "    <tr>\n",
       "      <th>...</th>\n",
       "      <td>...</td>\n",
       "      <td>...</td>\n",
       "      <td>...</td>\n",
       "      <td>...</td>\n",
       "      <td>...</td>\n",
       "    </tr>\n",
       "    <tr>\n",
       "      <th>973</th>\n",
       "      <td>롯데마이슈퍼 장위점</td>\n",
       "      <td>20120521</td>\n",
       "      <td>20300101</td>\n",
       "      <td>204208.631201</td>\n",
       "      <td>457844.348011</td>\n",
       "    </tr>\n",
       "    <tr>\n",
       "      <th>974</th>\n",
       "      <td>롯데마이슈퍼 정릉점</td>\n",
       "      <td>20120521</td>\n",
       "      <td>20300101</td>\n",
       "      <td>201548.495616</td>\n",
       "      <td>455659.817852</td>\n",
       "    </tr>\n",
       "    <tr>\n",
       "      <th>975</th>\n",
       "      <td>롯데쇼핑(주) 롯데슈퍼 역촌점</td>\n",
       "      <td>20120320</td>\n",
       "      <td>20300101</td>\n",
       "      <td>193083.765686</td>\n",
       "      <td>455978.010582</td>\n",
       "    </tr>\n",
       "    <tr>\n",
       "      <th>976</th>\n",
       "      <td>롯데백화점 건대스타시티점</td>\n",
       "      <td>20080822</td>\n",
       "      <td>20300101</td>\n",
       "      <td>206217.434726</td>\n",
       "      <td>448506.218744</td>\n",
       "    </tr>\n",
       "    <tr>\n",
       "      <th>977</th>\n",
       "      <td>롯데쇼핑(주)롯데마트 강변점</td>\n",
       "      <td>19980323</td>\n",
       "      <td>20300101</td>\n",
       "      <td>208394.416382</td>\n",
       "      <td>448165.280000</td>\n",
       "    </tr>\n",
       "  </tbody>\n",
       "</table>\n",
       "<p>978 rows × 5 columns</p>\n",
       "</div>"
      ],
      "text/plain": [
       "                 사업장명     인허가일자      폐업일자        좌표정보(X)        좌표정보(Y)\n",
       "0           마리오아울렛 1관  20130906  20300101  189943.234285  441784.247519\n",
       "1           마리오아울렛 3관  20120913  20300101  189759.713051  441814.115921\n",
       "2           롯데슈퍼 목동2점  20120405  20300101  188700.851170  448020.090999\n",
       "3             영등포유통상가  19990531  20300101  190555.768992  446698.814323\n",
       "4           롯데슈퍼 방배2점  20120424  20300101  198984.364832  443229.835879\n",
       "..                ...       ...       ...            ...            ...\n",
       "973        롯데마이슈퍼 장위점  20120521  20300101  204208.631201  457844.348011\n",
       "974        롯데마이슈퍼 정릉점  20120521  20300101  201548.495616  455659.817852\n",
       "975  롯데쇼핑(주) 롯데슈퍼 역촌점  20120320  20300101  193083.765686  455978.010582\n",
       "976     롯데백화점 건대스타시티점  20080822  20300101  206217.434726  448506.218744\n",
       "977   롯데쇼핑(주)롯데마트 강변점  19980323  20300101  208394.416382  448165.280000\n",
       "\n",
       "[978 rows x 5 columns]"
      ]
     },
     "execution_count": 16,
     "metadata": {},
     "output_type": "execute_result"
    }
   ],
   "source": [
    "mt_df = mart_csv[['사업장명', '인허가일자', '폐업일자', '좌표정보(X)', '좌표정보(Y)']]\n",
    "mt_df.loc[:, ('인허가일자',)] = mt_df['인허가일자'].str.replace('-', '')\n",
    "mt_df.loc[:, ('폐업일자',)] = mt_df['폐업일자'].fillna('20300101')\n",
    "mt_df.loc[:, ('폐업일자',)] = mt_df['폐업일자'].str.replace('-', '')\n",
    "mt_df"
   ]
  },
  {
   "attachments": {},
   "cell_type": "markdown",
   "metadata": {},
   "source": [
    "### 데이터 내보내기\n",
    "1. csv 파일로 data_frame 내보내기"
   ]
  },
  {
   "cell_type": "code",
   "execution_count": 17,
   "metadata": {},
   "outputs": [],
   "source": [
    "mt_df.to_csv('./대형마트 데이터.csv', encoding='cp949')"
   ]
  }
 ],
 "metadata": {
  "kernelspec": {
   "display_name": "Python 3",
   "language": "python",
   "name": "python3"
  },
  "language_info": {
   "codemirror_mode": {
    "name": "ipython",
    "version": 3
   },
   "file_extension": ".py",
   "mimetype": "text/x-python",
   "name": "python",
   "nbconvert_exporter": "python",
   "pygments_lexer": "ipython3",
   "version": "3.9.13"
  },
  "orig_nbformat": 4
 },
 "nbformat": 4,
 "nbformat_minor": 2
}
