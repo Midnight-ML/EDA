{
 "cells": [
  {
   "attachments": {},
   "cell_type": "markdown",
   "metadata": {},
   "source": [
    "# 데이터 로드\n"
   ]
  },
  {
   "cell_type": "code",
   "execution_count": 9,
   "metadata": {},
   "outputs": [],
   "source": [
    "# unzip한 csv는 가급 push하지 말아주세요~\n",
    "# !unzip 경기_한글.zip \n",
    "# !unzip 경기도_숫자.zip \n",
    "# !unzip 서울_한글.zip \n",
    "# !unzip 서울_숫자.zip "
   ]
  },
  {
   "cell_type": "code",
   "execution_count": 10,
   "metadata": {},
   "outputs": [],
   "source": [
    "import pandas as pd\n",
    "\n",
    "path = './서울_한글.csv'\n",
    "# path = './서울_숫자.csv'\n",
    "# path = './경기_한글.csv'\n",
    "# path = './경기도_숫자.csv'"
   ]
  },
  {
   "cell_type": "code",
   "execution_count": 11,
   "metadata": {},
   "outputs": [
    {
     "name": "stdout",
     "output_type": "stream",
     "text": [
      "(3589041, 12)\n"
     ]
    },
    {
     "data": {
      "text/html": [
       "<div>\n",
       "<style scoped>\n",
       "    .dataframe tbody tr th:only-of-type {\n",
       "        vertical-align: middle;\n",
       "    }\n",
       "\n",
       "    .dataframe tbody tr th {\n",
       "        vertical-align: top;\n",
       "    }\n",
       "\n",
       "    .dataframe thead th {\n",
       "        text-align: right;\n",
       "    }\n",
       "</style>\n",
       "<table border=\"1\" class=\"dataframe\">\n",
       "  <thead>\n",
       "    <tr style=\"text-align: right;\">\n",
       "      <th></th>\n",
       "      <th>시/군/구</th>\n",
       "      <th>동</th>\n",
       "      <th>전월세구분</th>\n",
       "      <th>전용면적(㎡)</th>\n",
       "      <th>보증금(만원)</th>\n",
       "      <th>월세(만원)</th>\n",
       "      <th>층</th>\n",
       "      <th>구분</th>\n",
       "      <th>한국은행기준금리</th>\n",
       "      <th>종가</th>\n",
       "      <th>년도</th>\n",
       "      <th>건물나이</th>\n",
       "    </tr>\n",
       "  </thead>\n",
       "  <tbody>\n",
       "    <tr>\n",
       "      <th>0</th>\n",
       "      <td>강남구</td>\n",
       "      <td>개포동</td>\n",
       "      <td>전세</td>\n",
       "      <td>77.75</td>\n",
       "      <td>33000</td>\n",
       "      <td>0</td>\n",
       "      <td>2.0</td>\n",
       "      <td>아파트</td>\n",
       "      <td>2.5</td>\n",
       "      <td>1941.15</td>\n",
       "      <td>2014.0</td>\n",
       "      <td>26.0</td>\n",
       "    </tr>\n",
       "    <tr>\n",
       "      <th>1</th>\n",
       "      <td>강남구</td>\n",
       "      <td>개포동</td>\n",
       "      <td>전세</td>\n",
       "      <td>79.97</td>\n",
       "      <td>34000</td>\n",
       "      <td>0</td>\n",
       "      <td>2.0</td>\n",
       "      <td>아파트</td>\n",
       "      <td>2.5</td>\n",
       "      <td>1941.15</td>\n",
       "      <td>2014.0</td>\n",
       "      <td>27.0</td>\n",
       "    </tr>\n",
       "    <tr>\n",
       "      <th>2</th>\n",
       "      <td>강남구</td>\n",
       "      <td>개포동</td>\n",
       "      <td>전세</td>\n",
       "      <td>79.97</td>\n",
       "      <td>28000</td>\n",
       "      <td>0</td>\n",
       "      <td>1.0</td>\n",
       "      <td>아파트</td>\n",
       "      <td>2.5</td>\n",
       "      <td>1941.15</td>\n",
       "      <td>2014.0</td>\n",
       "      <td>27.0</td>\n",
       "    </tr>\n",
       "    <tr>\n",
       "      <th>3</th>\n",
       "      <td>강남구</td>\n",
       "      <td>개포동</td>\n",
       "      <td>전세</td>\n",
       "      <td>79.97</td>\n",
       "      <td>35000</td>\n",
       "      <td>0</td>\n",
       "      <td>2.0</td>\n",
       "      <td>아파트</td>\n",
       "      <td>2.5</td>\n",
       "      <td>1941.15</td>\n",
       "      <td>2014.0</td>\n",
       "      <td>27.0</td>\n",
       "    </tr>\n",
       "    <tr>\n",
       "      <th>4</th>\n",
       "      <td>강남구</td>\n",
       "      <td>개포동</td>\n",
       "      <td>월세</td>\n",
       "      <td>104.43</td>\n",
       "      <td>40000</td>\n",
       "      <td>40</td>\n",
       "      <td>8.0</td>\n",
       "      <td>아파트</td>\n",
       "      <td>2.5</td>\n",
       "      <td>1941.15</td>\n",
       "      <td>2014.0</td>\n",
       "      <td>30.0</td>\n",
       "    </tr>\n",
       "  </tbody>\n",
       "</table>\n",
       "</div>"
      ],
      "text/plain": [
       "  시/군/구    동 전월세구분  전용면적(㎡)  보증금(만원)  월세(만원)    층   구분  한국은행기준금리       종가  \\\n",
       "0   강남구  개포동    전세    77.75    33000       0  2.0  아파트       2.5  1941.15   \n",
       "1   강남구  개포동    전세    79.97    34000       0  2.0  아파트       2.5  1941.15   \n",
       "2   강남구  개포동    전세    79.97    28000       0  1.0  아파트       2.5  1941.15   \n",
       "3   강남구  개포동    전세    79.97    35000       0  2.0  아파트       2.5  1941.15   \n",
       "4   강남구  개포동    월세   104.43    40000      40  8.0  아파트       2.5  1941.15   \n",
       "\n",
       "       년도  건물나이  \n",
       "0  2014.0  26.0  \n",
       "1  2014.0  27.0  \n",
       "2  2014.0  27.0  \n",
       "3  2014.0  27.0  \n",
       "4  2014.0  30.0  "
      ]
     },
     "execution_count": 11,
     "metadata": {},
     "output_type": "execute_result"
    }
   ],
   "source": [
    "df = pd.read_csv(path)\n",
    "print(df.shape)\n",
    "df.head()"
   ]
  },
  {
   "cell_type": "code",
   "execution_count": 17,
   "metadata": {},
   "outputs": [
    {
     "name": "stdout",
     "output_type": "stream",
     "text": [
      "시/군/구  :  ['강남구' '강동구' '강북구' '강서구' '관악구' '광진구' '구로구' '금천구' '노원구' '도봉구' '동대문구' '동작구'\n",
      " '마포구' '서대문구' '서초구' '성동구' '성북구' '송파구' '양천구' '영등포구' '용산구' '은평구' '종로구' '중구'\n",
      " '중랑구']\n",
      "전월세구분  :  ['전세' '월세']\n",
      "전용면적(㎡)  :  [ 77.75   79.97  104.43  ... 208.33   14.745  26.936]\n",
      "보증금(만원)  :  [33000 34000 28000 ...  5644  9022  7584]\n",
      "층  :  [  2.   1.   8.   9.   6.   7.   3.   4.   5.  11.  14.  13.  12.  10.\n",
      "  15.  23.  20.  19.  18.  24.  22.  17.  26.  27.  44.  29.  21.  30.\n",
      "  40.  25.  38.  45.  39.  33.  31.  28.  49.  50.  16.  41.  -1.  35.\n",
      "  32.  36.  34.  42.  37.  55.  47.   0.  51.  53.  43.  48.  -2.  60.\n",
      "  66.  63.  46.  52.  61.  -6.  58.  54.  64.  62.  59.  68.  57.  67.\n",
      "  -3.  56.  -4.  65. 501.  69. 401. 201.]\n",
      "구분  :  ['아파트' '오피스텔' '연립다세대']\n",
      "한국은행기준금리  :  [2.5  2.25 2.   2.75 3.25 3.   1.25 0.75 0.5  1.75 1.5  1.  ]\n",
      "년도  :  [2014. 2015. 2013. 2012. 2011. 2020. 2021. 2019. 2018. 2017. 2016. 2022.]\n",
      "건물나이  :  [26. 27. 30. 10. 32. 31. 28. 22. 23.  9. 18.  7. 12. 11. 29. 17.  0.  1.\n",
      " 13. 14.  6. 15. 25. 24. 35.  8. 36. -2. 19. 20. 16. 33.  3.  2. 21. 37.\n",
      " 34. 38.  5.  4. -4. 44. 43. 39. 45. 42. 46. 41. 40. 48. 49. 52. 53. -1.\n",
      " -3. 47. 58. 51. 50. 89. 59. -5. 57. 88. -6. 56. -8. 72. -9. -7. 69. 86.\n",
      " 55. 64. 54. 80. 81. 79. 61. 60. 66. 82. 62. 65.]\n"
     ]
    }
   ],
   "source": [
    "tomany = ['동', '월세(만원)', '종가']\n",
    "for col in df.columns:\n",
    "    if col in tomany : continue\n",
    "    print(col,\" : \", df[col].unique())"
   ]
  },
  {
   "cell_type": "code",
   "execution_count": 19,
   "metadata": {},
   "outputs": [
    {
     "name": "stdout",
     "output_type": "stream",
     "text": [
      "0.0     232519\n",
      "2.0     175977\n",
      "1.0     149452\n",
      "4.0     148806\n",
      "3.0     131896\n",
      "         ...  \n",
      "69.0         1\n",
      "72.0         1\n",
      "82.0         1\n",
      "62.0         1\n",
      "88.0         1\n",
      "Name: 건물나이, Length: 84, dtype: int64\n"
     ]
    }
   ],
   "source": [
    "print(df['건물나이'].value_counts())\n"
   ]
  },
  {
   "cell_type": "code",
   "execution_count": null,
   "metadata": {},
   "outputs": [],
   "source": []
  }
 ],
 "metadata": {
  "kernelspec": {
   "display_name": "Python 3",
   "language": "python",
   "name": "python3"
  },
  "language_info": {
   "codemirror_mode": {
    "name": "ipython",
    "version": 3
   },
   "file_extension": ".py",
   "mimetype": "text/x-python",
   "name": "python",
   "nbconvert_exporter": "python",
   "pygments_lexer": "ipython3",
   "version": "3.9.13"
  },
  "orig_nbformat": 4
 },
 "nbformat": 4,
 "nbformat_minor": 2
}
